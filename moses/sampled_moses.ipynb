{
 "cells": [
  {
   "cell_type": "code",
   "execution_count": 106,
   "metadata": {},
   "outputs": [],
   "source": [
    "import moses\n",
    "import os\n",
    "import numpy as np\n",
    "import logging, sys\n",
    "logging.disable(sys.maxsize)\n",
    "import warnings\n",
    "warnings.filterwarnings('ignore')\n",
    "#import rdkit.Chem as Chem"
   ]
  },
  {
   "cell_type": "code",
   "execution_count": 107,
   "metadata": {
    "tags": []
   },
   "outputs": [],
   "source": [
    "def get_mol(smiles_or_mol):\n",
    "    '''\n",
    "    Loads SMILES/molecule into RDKit's object\n",
    "    '''\n",
    "    if isinstance(smiles_or_mol, str):\n",
    "        if len(smiles_or_mol) == 0:\n",
    "            return None\n",
    "        mol = Chem.MolFromSmiles(smiles_or_mol)\n",
    "        if mol is None:\n",
    "            return None\n",
    "        try:\n",
    "            Chem.SanitizeMol(mol)\n",
    "        except ValueError:\n",
    "            return None\n",
    "        return mol\n",
    "    return smiles_or_mol"
   ]
  },
  {
   "cell_type": "code",
   "execution_count": 108,
   "metadata": {},
   "outputs": [],
   "source": [
    "def process_sampled_folder(sampled_dir, epochs, cpus):\n",
    "    valid_list = []\n",
    "    unique_list = []\n",
    "    novel_list = []\n",
    "    div_list = []\n",
    "    for epoch in epochs:\n",
    "        can_smiles_list = []\n",
    "        valid_count = 0\n",
    "        novel_count = 0\n",
    "        epoch=str(epoch)\n",
    "        gen_smiles = os.path.join(sampled_dir,f'{str(epoch)}.smi')\n",
    "        gen_list = smiles_to_list(gen_smiles)\n",
    "        c_valid = moses.metrics.fraction_valid(gen_list, n_jobs=cpus)\n",
    "        gen_valid = moses.metrics.metrics.remove_invalid(gen_list, canonize=True, n_jobs=cpus)\n",
    "        c_unique = moses.metrics.fraction_unique(gen_valid, n_jobs = cpus, check_validity=False)\n",
    "        c_novel = moses.metrics.metrics.novelty(gen_list,train_list, n_jobs= cpus)\n",
    "        div = moses.metrics.internal_diversity(gen_list, n_jobs= cpus)\n",
    "        valid_list.append(c_valid)\n",
    "        o_unique = c_valid*c_unique\n",
    "        unique_list.append(o_unique)\n",
    "        novel_list.append(o_unique* c_novel)\n",
    "        div_list.append(div)\n",
    "    return np.array([epochs,valid_list,unique_list,novel_list,div_list])"
   ]
  },
  {
   "cell_type": "raw",
   "metadata": {},
   "source": [
    "def process_sampled_folder(sampled_dir, epochs, cpus):\n",
    "    valid_list = []\n",
    "    unique_list = []\n",
    "    novel_list = []\n",
    "    div_list = []\n",
    "    for epoch in epochs:\n",
    "        gen_smiles = os.path.join(sampled_dir,f'{str(epoch)}.smi')\n",
    "        gen_list = smiles_to_list(gen_smiles)\n",
    "        metrics = moses.get_all_metrics(gen_list, k=[100,1000], test=train_list, train=train_list, n_jobs = 4)\n",
    "        valid_list.append(metrics['valid'])\n",
    "        o_unique = metrics['valid']*metrics['unique@1000']\n",
    "        unique_list.append(o_unique)\n",
    "        novel_list.append(o_unique* metrics['Novelty'])\n",
    "        div_list.append(metrics['IntDiv'])\n",
    "    return np.array([epochs,valid_list,unique_list,novel_list,div_list])"
   ]
  },
  {
   "cell_type": "code",
   "execution_count": 109,
   "metadata": {},
   "outputs": [],
   "source": [
    "def smiles_to_list(smiles_file):\n",
    "    with open(smiles_file) as f:\n",
    "        content = f.readlines()\n",
    "    out_list = [x.strip() for x in content] \n",
    "    return out_list"
   ]
  },
  {
   "cell_type": "code",
   "execution_count": 110,
   "metadata": {},
   "outputs": [],
   "source": [
    "train_smiles = os.path.expanduser(\"~/reinvent-2/data/model1_cano.smi\")\n",
    "#train_smiles = '/Volumes/mg4417/home/reinvent-2/data/model1_cano.smi'\n",
    "train_list = smiles_to_list(train_smiles)"
   ]
  },
  {
   "cell_type": "code",
   "execution_count": 111,
   "metadata": {},
   "outputs": [],
   "source": [
    "sampled_dir = os.path.expanduser(\"~/reinvent-2/outputs/REINVENT_RL_demo/report/pure_gds_alt/sampled\")\n",
    "#sampled_dir = '/Volumes/mg4417/home/reinvent-2/outputs/REINVENT_transfer_learning_demo/sampled'\n",
    "#epochs = ['1','10','20','30','40','50','60','70','80','90','100','110','120','130','140','150','160','170','180','190','200']\n",
    "epochs = [10,100,200,300,400,500,600,700,800,900,1000]"
   ]
  },
  {
   "cell_type": "code",
   "execution_count": 112,
   "metadata": {
    "tags": []
   },
   "outputs": [],
   "source": [
    "%%capture output\n",
    "out_arr = process_sampled_folder(sampled_dir, epochs, cpus=2)"
   ]
  },
  {
   "cell_type": "code",
   "execution_count": 113,
   "metadata": {},
   "outputs": [
    {
     "data": {
      "text/plain": [
       "array([  10.,  100.,  200.,  300.,  400.,  500.,  600.,  700.,  800.,\n",
       "        900., 1000.])"
      ]
     },
     "execution_count": 113,
     "metadata": {},
     "output_type": "execute_result"
    }
   ],
   "source": [
    "out_arr[0]"
   ]
  },
  {
   "cell_type": "code",
   "execution_count": 114,
   "metadata": {},
   "outputs": [],
   "source": [
    "output_dir = os.path.expanduser(\"~/reinvent-2/outputs/REINVENT_RL_demo/report/metrics\")\n",
    "#output_dir = '/Volumes/mg4417/home/reinvent-2/outputs/REINVENT_transfer_learning_demo/report'\n",
    "np.save(os.path.join(output_dir,'pure_gds_alt.npy'), out_arr)"
   ]
  },
  {
   "cell_type": "code",
   "execution_count": null,
   "metadata": {},
   "outputs": [],
   "source": []
  }
 ],
 "metadata": {
  "kernelspec": {
   "display_name": "moses",
   "language": "python",
   "name": "moses"
  },
  "language_info": {
   "codemirror_mode": {
    "name": "ipython",
    "version": 3
   },
   "file_extension": ".py",
   "mimetype": "text/x-python",
   "name": "python",
   "nbconvert_exporter": "python",
   "pygments_lexer": "ipython3",
   "version": "3.6.10"
  }
 },
 "nbformat": 4,
 "nbformat_minor": 4
}
