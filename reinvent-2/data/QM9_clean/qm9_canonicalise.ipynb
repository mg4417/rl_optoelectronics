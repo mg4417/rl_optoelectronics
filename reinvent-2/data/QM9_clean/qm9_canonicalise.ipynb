{
 "cells": [
  {
   "cell_type": "code",
   "execution_count": 2,
   "metadata": {},
   "outputs": [],
   "source": [
    "import rdkit.Chem as rkc"
   ]
  },
  {
   "cell_type": "code",
   "execution_count": 13,
   "metadata": {},
   "outputs": [],
   "source": [
    "with open('../130K_QM9.txt') as f:\n",
    "    with open('QM9_clean.smi','w') as f2:\n",
    "        for line in f:\n",
    "            f2.writelines(rkc.MolToSmiles(rkc.MolFromSmiles(line.strip())).strip()+\"\\n\")"
   ]
  },
  {
   "cell_type": "code",
   "execution_count": null,
   "metadata": {},
   "outputs": [],
   "source": []
  }
 ],
 "metadata": {
  "kernelspec": {
   "display_name": "Python [conda env:reinvent_shared.v2.1]",
   "language": "python",
   "name": "conda-env-reinvent_shared.v2.1-py"
  },
  "language_info": {
   "codemirror_mode": {
    "name": "ipython",
    "version": 3
   },
   "file_extension": ".py",
   "mimetype": "text/x-python",
   "name": "python",
   "nbconvert_exporter": "python",
   "pygments_lexer": "ipython3",
   "version": "3.6.5"
  }
 },
 "nbformat": 4,
 "nbformat_minor": 2
}
