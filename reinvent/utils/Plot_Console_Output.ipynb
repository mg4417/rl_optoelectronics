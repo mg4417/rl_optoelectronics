{
 "cells": [
  {
   "cell_type": "code",
   "execution_count": 1,
   "metadata": {
    "hide_input": true,
    "scrolled": false
   },
   "outputs": [
    {
     "data": {
      "text/html": [
       "<p>Failed to display Jupyter Widget of type <code>Textarea</code>.</p>\n",
       "<p>\n",
       "  If you're reading this message in the Jupyter Notebook or JupyterLab Notebook, it may mean\n",
       "  that the widgets JavaScript is still loading. If this message persists, it\n",
       "  likely means that the widgets JavaScript library is either not installed or\n",
       "  not enabled. See the <a href=\"https://ipywidgets.readthedocs.io/en/stable/user_install.html\">Jupyter\n",
       "  Widgets Documentation</a> for setup instructions.\n",
       "</p>\n",
       "<p>\n",
       "  If you're reading this message in another frontend (for example, a static\n",
       "  rendering on GitHub or <a href=\"https://nbviewer.jupyter.org/\">NBViewer</a>),\n",
       "  it may mean that your frontend doesn't currently support widgets.\n",
       "</p>\n"
      ],
      "text/plain": [
       "Textarea(value='', description='Input:', layout=Layout(width='100%'), placeholder='')"
      ]
     },
     "metadata": {},
     "output_type": "execute_result"
    },
    {
     "data": {
      "text/html": [
       "<p>Failed to display Jupyter Widget of type <code>Button</code>.</p>\n",
       "<p>\n",
       "  If you're reading this message in the Jupyter Notebook or JupyterLab Notebook, it may mean\n",
       "  that the widgets JavaScript is still loading. If this message persists, it\n",
       "  likely means that the widgets JavaScript library is either not installed or\n",
       "  not enabled. See the <a href=\"https://ipywidgets.readthedocs.io/en/stable/user_install.html\">Jupyter\n",
       "  Widgets Documentation</a> for setup instructions.\n",
       "</p>\n",
       "<p>\n",
       "  If you're reading this message in another frontend (for example, a static\n",
       "  rendering on GitHub or <a href=\"https://nbviewer.jupyter.org/\">NBViewer</a>),\n",
       "  it may mean that your frontend doesn't currently support widgets.\n",
       "</p>\n"
      ],
      "text/plain": [
       "Button(description='Parse Text', style=ButtonStyle(), tooltip='Parse the text from the input box')"
      ]
     },
     "metadata": {},
     "output_type": "execute_result"
    },
    {
     "data": {
      "text/html": [
       "<p>Failed to display Jupyter Widget of type <code>Tab</code>.</p>\n",
       "<p>\n",
       "  If you're reading this message in the Jupyter Notebook or JupyterLab Notebook, it may mean\n",
       "  that the widgets JavaScript is still loading. If this message persists, it\n",
       "  likely means that the widgets JavaScript library is either not installed or\n",
       "  not enabled. See the <a href=\"https://ipywidgets.readthedocs.io/en/stable/user_install.html\">Jupyter\n",
       "  Widgets Documentation</a> for setup instructions.\n",
       "</p>\n",
       "<p>\n",
       "  If you're reading this message in another frontend (for example, a static\n",
       "  rendering on GitHub or <a href=\"https://nbviewer.jupyter.org/\">NBViewer</a>),\n",
       "  it may mean that your frontend doesn't currently support widgets.\n",
       "</p>\n"
      ],
      "text/plain": [
       "Tab(children=(VBox(children=(SelectionSlider(continuous_update=False, description='Step', disabled=True, options=('',), value=''), Output(layout=Layout(height='600px', width='100%')))), VBox(children=(Output(layout=Layout(height='600px', width='100%')),))), _titles={'0': 'Intermediates', '1': 'Final'})"
      ]
     },
     "metadata": {},
     "output_type": "execute_result"
    }
   ],
   "source": [
    "%matplotlib notebook\n",
    "def show_results():\n",
    "\n",
    "    import pandas as pd\n",
    "    import matplotlib.pyplot as plt\n",
    "    import ipywidgets as widgets\n",
    "\n",
    "    from IPython.display import display\n",
    "    from rdkit.Chem import PandasTools\n",
    "\n",
    "\n",
    "    layout = widgets.Layout(width='100%', height='600px')\n",
    "\n",
    "    text = widgets.Textarea(\n",
    "        value='',\n",
    "        placeholder='',\n",
    "        description='Input:',\n",
    "        disabled=False,\n",
    "        layout=widgets.Layout(width='100%'),\n",
    "        continuous_update=True\n",
    "    )\n",
    "    display(text)\n",
    "    button = widgets.Button(\n",
    "        value=False,\n",
    "        description='Parse Text',\n",
    "        disabled=False,\n",
    "        button_style='', # 'success', 'info', 'warning', 'danger' or ''\n",
    "        tooltip='Parse the text from the input box',\n",
    "        icon=''\n",
    "    )\n",
    "    display(button)\n",
    "    tab_titles = ['Intermediates', 'Final']\n",
    "    slider = widgets.SelectionSlider(\n",
    "                options=[''],\n",
    "                description='Step',\n",
    "                disabled=True,\n",
    "                continuous_update=False,\n",
    "                orientation='horizontal',\n",
    "                readout=True\n",
    "                )\n",
    "\n",
    "    intermediate_output = widgets.Output(layout=layout)\n",
    "    final_output = widgets.Output(layout=layout)\n",
    "    children = [widgets.VBox([slider,intermediate_output]),widgets.VBox([final_output])]\n",
    "    tab = widgets.Tab()\n",
    "    tab.children = children\n",
    "    for i, title in enumerate(tab_titles):\n",
    "        tab.set_title(i, title)\n",
    "    display(tab)\n",
    "\n",
    "\n",
    "    intermediates = {}\n",
    "\n",
    "    final = {}\n",
    "\n",
    "    def parse_intermediate_output(output):\n",
    "        step = int(output[0].split()[1])\n",
    "        names = [\"Agent\",\"Prior\",\"Target\",\"Score\",\"SMILES\"]\n",
    "        data = {name:[] for name in names}\n",
    "        for i in range(2,len(output)):\n",
    "            values = output[i].split()\n",
    "            for j in range(len(values)):\n",
    "                data[names[j]].append(values[j])\n",
    "        df = pd.DataFrame(data)\n",
    "        PandasTools.AddMoleculeColumnToFrame(df,'SMILES','Molecule',includeFingerprints=False)\n",
    "        intermediates[step] = df\n",
    "\n",
    "        slider.options = sorted(list(intermediates.keys()))\n",
    "        slider.disabled = False\n",
    "        handle_slider(slider, step)\n",
    "\n",
    "    def parse_endresult(output):\n",
    "        names = [\"Score\",\"Prior log P\",\"SMILES\"]\n",
    "        data = {name:[] for name in names}\n",
    "        for i in range(2,len(output)):\n",
    "            values = output[i].split()\n",
    "            for j in range(len(values)):\n",
    "                data[names[j]].append(values[j])\n",
    "        df = pd.DataFrame(data)\n",
    "        PandasTools.AddMoleculeColumnToFrame(df,'SMILES','Molecule',includeFingerprints=False)\n",
    "        final[0] = df\n",
    "        tab.children[1].children[0].clear_output()\n",
    "        with tab.children[1].children[0]:\n",
    "            display(df)\n",
    "\n",
    "    def handle_text(sender):\n",
    "        input_ = text.value.splitlines()\n",
    "        input_ = [line.lstrip().rstrip() for line in input_] \n",
    "        n_lines = len(input_)\n",
    "        for i in range(n_lines):\n",
    "            if input_[i].startswith(\"Step\"):\n",
    "                end = min(i+12, n_lines-1)\n",
    "                #we need at least 3 lines\n",
    "                if end >= i+3:\n",
    "                    parse_intermediate_output(input_[i:end])\n",
    "            elif input_[i].startswith(\"Score     Prior log P\"):\n",
    "                end = min(i+52, n_lines-1)\n",
    "                if end >= i+3:\n",
    "                    parse_endresult(input_[i:end])\n",
    "        text.value = \"\"\n",
    "\n",
    "    def handle_slider(sender, last_added=None):\n",
    "        value = slider.value\n",
    "        if value == '':\n",
    "            value = last_added\n",
    "        tab.children[0].children[1].clear_output()\n",
    "        with tab.children[0].children[1]:\n",
    "            display(intermediates[value])\n",
    "\n",
    "\n",
    "    #text.observe(handle_text, 'value')\n",
    "    button.on_click(handle_text)\n",
    "    slider.observe(handle_slider, names='value')\n",
    "    #plt.show()\n",
    "show_results()"
   ]
  },
  {
   "cell_type": "code",
   "execution_count": 2,
   "metadata": {
    "hide_input": true,
    "scrolled": false
   },
   "outputs": [
    {
     "data": {
      "text/html": [
       "<p>Failed to display Jupyter Widget of type <code>Text</code>.</p>\n",
       "<p>\n",
       "  If you're reading this message in the Jupyter Notebook or JupyterLab Notebook, it may mean\n",
       "  that the widgets JavaScript is still loading. If this message persists, it\n",
       "  likely means that the widgets JavaScript library is either not installed or\n",
       "  not enabled. See the <a href=\"https://ipywidgets.readthedocs.io/en/stable/user_install.html\">Jupyter\n",
       "  Widgets Documentation</a> for setup instructions.\n",
       "</p>\n",
       "<p>\n",
       "  If you're reading this message in another frontend (for example, a static\n",
       "  rendering on GitHub or <a href=\"https://nbviewer.jupyter.org/\">NBViewer</a>),\n",
       "  it may mean that your frontend doesn't currently support widgets.\n",
       "</p>\n"
      ],
      "text/plain": [
       "Text(value='', description='Smiles:', placeholder='')"
      ]
     },
     "metadata": {},
     "output_type": "execute_result"
    },
    {
     "data": {
      "text/html": [
       "<p>Failed to display Jupyter Widget of type <code>Button</code>.</p>\n",
       "<p>\n",
       "  If you're reading this message in the Jupyter Notebook or JupyterLab Notebook, it may mean\n",
       "  that the widgets JavaScript is still loading. If this message persists, it\n",
       "  likely means that the widgets JavaScript library is either not installed or\n",
       "  not enabled. See the <a href=\"https://ipywidgets.readthedocs.io/en/stable/user_install.html\">Jupyter\n",
       "  Widgets Documentation</a> for setup instructions.\n",
       "</p>\n",
       "<p>\n",
       "  If you're reading this message in another frontend (for example, a static\n",
       "  rendering on GitHub or <a href=\"https://nbviewer.jupyter.org/\">NBViewer</a>),\n",
       "  it may mean that your frontend doesn't currently support widgets.\n",
       "</p>\n"
      ],
      "text/plain": [
       "Button(description='Show structure', style=ButtonStyle(), tooltip='Parse the text from the input box')"
      ]
     },
     "metadata": {},
     "output_type": "execute_result"
    }
   ],
   "source": [
    "def show_structure():\n",
    "    import ipywidgets as widgets\n",
    "    from IPython.display import display\n",
    "    text = widgets.Text(\n",
    "        value='',\n",
    "        placeholder='',\n",
    "        description='Smiles:',\n",
    "        disabled=False,\n",
    "    )\n",
    "    display(text)\n",
    "    button = widgets.Button(\n",
    "        value=False,\n",
    "        description='Show structure',\n",
    "        disabled=False,\n",
    "        button_style='', # 'success', 'info', 'warning', 'danger' or ''\n",
    "        tooltip='Parse the text from the input box',\n",
    "        icon=''\n",
    "    )\n",
    "    display(button)\n",
    "\n",
    "    def show_3d(result):\n",
    "\n",
    "        import py3Dmol\n",
    "        from scoring_functions import ROCS_similarity\n",
    "\n",
    "        def read_mol2(path):\n",
    "            with open(path) as f:\n",
    "                data = f.readlines()\n",
    "            data = \"\".join(data)\n",
    "            return data\n",
    "        \n",
    "        ligand = \"ligands/SYK/ligand.mol2\"\n",
    "        pocket_mol2 = read_mol2(\"ligands/SYK/pocket.mol2\")\n",
    "        ligand_mol2 = read_mol2(ligand)\n",
    "        generated_mol2 = ROCS_similarity(ligand=ligand).get_conformation(result)\n",
    "\n",
    "        p = py3Dmol.view(width=950,height=500,linked=True,viewergrid=(1,3))\n",
    "\n",
    "        #generated plus ligands\n",
    "        p.addModel(generated_mol2, 'mol2',{\"keepH\":False},viewer=(0,0) )\n",
    "        p.setStyle({'model':0},{'stick':  {'colorscheme':'yellowCarbon'}},viewer=(0,0))\n",
    "        p.addModel(ligand_mol2, 'mol2',{\"keepH\":False},viewer=(0,0))\n",
    "        p.setStyle({'model':1},{'stick':  {'colorscheme':'cyanCarbon'}},viewer=(0,0))\n",
    "        p.zoomTo(viewer=(0,0))\n",
    "\n",
    "        #generated in pocket\n",
    "        p.addModel(generated_mol2, 'mol2',{\"keepH\":False},viewer=(0,1) )\n",
    "        p.setStyle({'model':0},{'stick':  {'colorscheme':'yellowCarbon'}},viewer=(0,1))\n",
    "        p.zoomTo(viewer=(0,1))\n",
    "        p.addModel(pocket_mol2, 'mol2',{\"keepH\":False}, viewer=(0,1))  \n",
    "\n",
    "        #generated plus ligands in pocket\n",
    "        p.addModel(generated_mol2, 'mol2',{\"keepH\":False},viewer=(0,2) )\n",
    "        p.setStyle({'model':0},{'stick':  {'colorscheme':'yellowCarbon'}},viewer=(0,2))\n",
    "        p.addModel(ligand_mol2, 'mol2',{\"keepH\":False},viewer=(0,2))\n",
    "        p.zoomTo(viewer=(0,2))\n",
    "        p.setStyle({'model':1},{'stick':  {'colorscheme':'cyanCarbon'}},viewer=(0,2))\n",
    "        p.addModel(pocket_mol2, 'mol2',{\"keepH\":False}, viewer=(0,2))  \n",
    "\n",
    "        return p\n",
    "\n",
    "    def handle_text(sender):\n",
    "        input_ = text.value\n",
    "        display(show_3d(input_))\n",
    "    button.on_click(handle_text)\n",
    "show_structure()"
   ]
  },
  {
   "cell_type": "code",
   "execution_count": null,
   "metadata": {
    "collapsed": true,
    "hide_input": false
   },
   "outputs": [],
   "source": [
    ""
   ]
  }
 ],
 "metadata": {
  "kernelspec": {
   "display_name": "Python 3",
   "language": "python",
   "name": "python3"
  },
  "language_info": {
   "codemirror_mode": {
    "name": "ipython",
    "version": 3
   },
   "file_extension": ".py",
   "mimetype": "text/x-python",
   "name": "python",
   "nbconvert_exporter": "python",
   "pygments_lexer": "ipython3",
   "version": "3.6.2"
  }
 },
 "nbformat": 4,
 "nbformat_minor": 0
}
